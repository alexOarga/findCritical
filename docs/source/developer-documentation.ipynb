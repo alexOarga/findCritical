{
 "cells": [
  {
   "cell_type": "markdown",
   "metadata": {},
   "source": [
    "# Developer documentation\n"
   ]
  },
  {
   "cell_type": "markdown",
   "metadata": {},
   "source": [
    "## CORE\n"
   ]
  },
  {
   "cell_type": "markdown",
   "metadata": {},
   "source": [
    "### Import core modules\n",
    "\n",
    "In order to use **findCritical** library you have to import the core modules found on ```main/core``` directory. In the next example I use ```sys.path.append``` approach."
   ]
  },
  {
   "cell_type": "code",
   "execution_count": 1,
   "metadata": {},
   "outputs": [],
   "source": [
    "import sys\n",
    "\n",
    "# Import main/core\n",
    "sys.path.append('../../main/core')\n",
    "\n",
    "from MetabolicModel import MetabolicModel\n",
    "from CobraMetabolicModel import CobraMetabolicModel"
   ]
  },
  {
   "cell_type": "markdown",
   "metadata": {},
   "source": [
    "### Read metabolic model\n",
    "\n",
    "Read input metabolic model in [Systems Biology Markup Language (SBML)](http://sbml.org) format. SBML is a XML-based standard for systems biology model's exchange.\n",
    "\n",
    "Allowed files formats are:\n",
    "* xml\n",
    "* json\n",
    "* yml"
   ]
  },
  {
   "cell_type": "code",
   "execution_count": 2,
   "metadata": {},
   "outputs": [],
   "source": [
    "model = MetabolicModel(CobraMetabolicModel(\"aureus.xml\"))"
   ]
  },
  {
   "cell_type": "markdown",
   "metadata": {},
   "source": [
    "### Get model info\n"
   ]
  },
  {
   "cell_type": "markdown",
   "metadata": {},
   "source": [
    "The following methods allow to print on the command line data from the model."
   ]
  },
  {
   "cell_type": "markdown",
   "metadata": {},
   "source": [
    "#### Model info\n"
   ]
  },
  {
   "cell_type": "code",
   "execution_count": 3,
   "metadata": {},
   "outputs": [
    {
     "name": "stdout",
     "output_type": "stream",
     "text": [
      "MODEL INFO\n",
      "-------------------------------------------------------\n",
      "MODEL:  MODEL1507180070\n",
      "REACTIONS:  743\n",
      "METABOLITES:  655\n",
      "GENES:  619\n",
      "COMPARTMENTS:  c\n",
      "               e\n",
      "\n"
     ]
    }
   ],
   "source": [
    "model.print_model_info()"
   ]
  },
  {
   "cell_type": "markdown",
   "metadata": {},
   "source": [
    "#### Metabolites\n"
   ]
  },
  {
   "cell_type": "code",
   "execution_count": 4,
   "metadata": {
    "scrolled": false
   },
   "outputs": [
    {
     "name": "stdout",
     "output_type": "stream",
     "text": [
      "MODEL:  MODEL1507180070  - NUMBER OF METABOLITES:  655\n",
      "METABOLITE  |  COMPARTMENT      |  REACTION ID\n",
      "-------------------------------------------------------\n",
      "10fthf_c    |  c                |  AICART\n",
      "            |                   |  biomass_SA_8a\n",
      "            |                   |  biomass_SA_7a\n",
      "            |                   |  FTHFL\n",
      "            |                   |  biomass_SA_7b\n",
      "            |                   |  GARFT\n",
      "            |                   |  MTHFC\n",
      "12dgr_EC_c  |  c                |  biomass_SA_3a\n",
      "            |                   |  biomass_SA_2b\n",
      "            |                   |  biomass_SA_lipids_only\n",
      "            |                   |  biomass_SA_2a\n",
      "            |            "
     ]
    },
    {
     "data": {
      "text/html": [
       "* * *"
      ]
     },
     "metadata": {},
     "output_type": "display_data"
    }
   ],
   "source": [
    "model.print_metabolites()"
   ]
  },
  {
   "cell_type": "markdown",
   "metadata": {},
   "source": [
    "#### Reactions\n"
   ]
  },
  {
   "cell_type": "code",
   "execution_count": 5,
   "metadata": {},
   "outputs": [
    {
     "name": "stdout",
     "output_type": "stream",
     "text": [
      "MODEL:  MODEL1507180070  - NUMBER OF REACTIONS:  743\n",
      "REACTION ID | UPPER BOUND | LOWER BOUND | REACTION\n",
      "-------------------------------------------------------\n",
      "3M2OBLOXRD  |   999999.0  |  -999999.0  |  3mob_c + h_c + lpam_c <=> 2mpdhl_c + co2_c\n",
      "3M2OPLOXRD  |   999999.0  |  -999999.0  |  3mop_c + h_c + lpam_c <=> 2mbdhl_c + co2_c\n",
      "4M2OPLOXRD  |   999999.0  |  -999999.0  |  4mop_c + h_c + lpam_c <=> 3mbdhl_c + co2_c\n",
      "6PGALSZ     |   999999.0  |  0.0        |  h2o_c + lac6p_c --> dgal6p_c + glc_DASH_D_c\n",
      "6PHBG       |   999999.0  |  0.0        |  h2o_c + salc6p_c --> 2hymeph_c + g6p_c\n",
      "ABTAr       |   999999.0  |  0.0        |  4abut_c + akg_c --> glu_DASH_L_c + sucsal_c\n",
      "ACACT1r     |   999999.0  "
     ]
    },
    {
     "data": {
      "text/html": [
       "* * *"
      ]
     },
     "metadata": {},
     "output_type": "display_data"
    }
   ],
   "source": [
    "model.print_reactions()"
   ]
  },
  {
   "cell_type": "markdown",
   "metadata": {},
   "source": [
    "#### Genes\n"
   ]
  },
  {
   "cell_type": "code",
   "execution_count": 6,
   "metadata": {},
   "outputs": [
    {
     "name": "stdout",
     "output_type": "stream",
     "text": [
      "MODEL:  MODEL1507180070  - NUMBER OF GENES:  619\n",
      "GENE ID     |  GENE NAME   |  REACTION ID |  GPR RELATION\n",
      "-------------------------------------------------------\n",
      "SA0008      |  SA0008      |  HISDr       |  SA0008         \n",
      "SA0009      |  SA0009      |  SERTRS      |  SA0009         \n",
      "SA0011      |  SA0011      |  HSERTA      |  SA0011         \n",
      "SA0016      |  SA0016      |  ADSS        |  SA0016         \n",
      "SA0036      |  SA0036      |  GPDDA5      |  SA0036 or SA0820 or SA1542 or SA0969 or SA0220\n",
      "            |              |  GPDDA1      |  SA0036 or SA0820 or SA1542 or SA0969 or SA0220\n",
      "            |              |  GPDDA4      |  SA0036 or SA0820 or SA1542 or SA0969 or SA0220\n",
      "            |    "
     ]
    },
    {
     "data": {
      "text/html": [
       "* * *"
      ]
     },
     "metadata": {},
     "output_type": "display_data"
    }
   ],
   "source": [
    "model.print_genes()"
   ]
  },
  {
   "cell_type": "markdown",
   "metadata": {},
   "source": [
    "### Dead-end metabolites\n",
    "\n",
    "[Dead-end metabolites](https://journals.plos.org/plosone/article?id=10.1371/journal.pone.0075210) are those metabolites which are not consumed or not produced by any reaction of a given compartment of the model including exchange reactions."
   ]
  },
  {
   "cell_type": "markdown",
   "metadata": {},
   "source": [
    "#### Finding Dead-end metabolites\n",
    "\n",
    "Dead-end metabolites of the model are calculated with the method ```find_dem()```. The method ```dem()``` returns a python [dict](https://docs.python.org/2/tutorial/datastructures.html#dictionaries) with the following content:   \n",
    "- **key**: string with compartment name.   \n",
    "- **value**: list with [cobra.core.metabolites](https://cobrapy.readthedocs.io/en/latest/getting_started.html#Metabolites)."
   ]
  },
  {
   "cell_type": "code",
   "execution_count": 7,
   "metadata": {
    "scrolled": false
   },
   "outputs": [
    {
     "data": {
      "text/plain": [
       "{'c': [<Metabolite trnaala_c at 0x7f3cb65d0048>,\n",
       "  <Metabolite trnaarg_c at 0x7f3cb65d00f0>,\n",
       "  <Metabolite trnaasn_c at 0x7f3cb65d0160>,\n",
       "  <Metabolite trnaasp_c at 0x7f3cb65d0198>,\n",
       "  <Metabolite trnacys_c at 0x7f3cb65d01d0>,\n",
       "  <Metabolite adprib_c at 0x7f3cb6647f98>,\n",
       "  <Metabolite trnagly_c at 0x7f3cb65d0240>,\n",
       "  <Metabolite trnaile_c at 0x7f3cb65d0278>,\n",
       "  <Metabolite trnalys_c at 0x7f3cb65d02b0>,\n",
       "  <Metabolite trnamet_c at 0x7f3cb65d02e8>,\n",
       "  <Metabolite trnaser_c at 0x7f3cb65d0320>,\n",
       "  <Metabolite trnathr_c at 0x7f3cb65d0358>,\n",
       "  <Metabolite 4abut_c at 0x7f3cb663c358>,\n",
       "  <Metabolite ssaltpp_c at 0x7f3cb65c4358>,\n",
       "  <Metabolite 2me4p_c at 0x7f3cb6630470>,\n",
       "  <Metabolite nop_c at 0x7f3cb65aa4a8>,\n"
      ]
     },
     "execution_count": 7,
     "metadata": {},
     "output_type": "execute_result"
    },
    {
     "data": {
      "text/html": [
       "* * *"
      ]
     },
     "metadata": {},
     "output_type": "display_data"
    }
   ],
   "source": [
    "model.find_dem()\n",
    "model.dem()"
   ]
  },
  {
   "cell_type": "markdown",
   "metadata": {},
   "source": [
    "Dead-end metabolites can be printed on the command line with ```print_dem()``` method."
   ]
  },
  {
   "cell_type": "code",
   "execution_count": 8,
   "metadata": {},
   "outputs": [
    {
     "name": "stdout",
     "output_type": "stream",
     "text": [
      "MODEL:  MODEL1507180070  - NUMBER OF DEM:  2  - COMPARTMENT:  ALL\n",
      "METABOLITE  |  COMPARTMENT      |  REACTION ID\n",
      "-------------------------------------------------------\n",
      "trnaala_c   |  c                |  ALATRS\n",
      "trnaarg_c   |  c                |  ARGTRS\n",
      "trnaasn_c   |  c                |  ASNTRS\n",
      "trnaasp_c   |  c                |  ASPTRS\n",
      "trnacys_c   |  c                |  CYSTRS\n",
      "adprib_c    |  c                |  ADPRDP\n",
      "trnagly_c   |  c                |  GLYTRS\n",
      "trnaile_c   |  c                |  ILETRS\n",
      "trnalys_c   |  c                |  LYSTRS\n",
      "trnamet_c   |  c                |  METTRS\n",
      "trnaser_c   |  c                |  SERTRS\n",
      "trnathr_c   |  c                |  THRTRS\n",
      "4abut_c     |  c           "
     ]
    },
    {
     "data": {
      "text/html": [
       "* * *"
      ]
     },
     "metadata": {},
     "output_type": "display_data"
    }
   ],
   "source": [
    "model.print_dem()"
   ]
  },
  {
   "cell_type": "markdown",
   "metadata": {},
   "source": [
    "Dead-end metabolites printed can be limited to a specific compartment. Avaible compartments are given by ```model.compartments()``` method."
   ]
  },
  {
   "cell_type": "code",
   "execution_count": 9,
   "metadata": {},
   "outputs": [
    {
     "name": "stdout",
     "output_type": "stream",
     "text": [
      "MODEL:  MODEL1507180070  - NUMBER OF DEM:  2  - COMPARTMENT:  e\n",
      "METABOLITE  |  COMPARTMENT      |  REACTION ID\n",
      "-------------------------------------------------------\n",
      "tre_e       |  e                |  EX_tre_e\n",
      "            |                   |  TREpts\n",
      "uri_e       |  e                |  URIt4\n",
      "            |                   |  EX_uri_e\n",
      "btn_e       |  e                |  EX_btn_e\n",
      "            |                   |  BTNt2i\n",
      "spmd_e      |  e                |  EX_spmd_e\n",
      "            |                   |  SPMDabc\n",
      "no3_e       |  e                |  NO3t7\n",
      "            |                   |  EX_no3_e\n",
      "lcts_e      |  e                |  EX_lcts_e\n",
      "            |                   |  LACpts\n",
      "zn2_e       |  e"
     ]
    },
    {
     "data": {
      "text/html": [
       "* * *"
      ]
     },
     "metadata": {},
     "output_type": "display_data"
    }
   ],
   "source": [
    "model.print_dem(compartment=\"e\")"
   ]
  },
  {
   "cell_type": "markdown",
   "metadata": {},
   "source": [
    "#### Removing dead-end metabolites\n",
    "\n",
    "Method ```remove_dem()``` removes dead-end metabolites from the model. Once dead-end metabolites are deleted, some reactions might not produce a metabolite anymore so the method deletes also these reactions and loops again until no dead-end metabolite is found:\n",
    "\n",
    "```\n",
    "while number of metabolites doesnt change:\n",
    "    delete all dead-end metabolites\n",
    "    for reaction that produced or consumed dead-end metabolites:\n",
    "        if reaction produces or consumes 0 metabolites [and is not exchange nor demand]: \n",
    "            delete reaction\n",
    "    find dead-end metabolites\n",
    "```\n",
    "\n",
    "The reactions that are deleted on the method can be modified by the following params: \n",
    "<ul>\n",
    "<li> **delete_exchange** :   \n",
    "     <ul> \n",
    "         <li> **True** : all the reactions that are produce or consume 0 metabolites are deleted whether they are exchange/demand or not. </li>    \n",
    "         <li> **False** : (default) deleted according to 'keep_all_incomplete_reactions' param. </li>\n",
    "     </ul>\n",
    "</li>\n",
    "<li> **keep_all_incomplete_reactions** :\n",
    "     <ul>\n",
    "        <li> **False**: if a reactions is a [cobra boundary reaction](https://cobrapy.readthedocs.io/en/latest/media.html#Boundary-reactions) (calculated by heuristics) that reaction can't be deleted. </li> \n",
    "        <li> **True**: (default) if a reaction initially doesn't produce or consume any metabolite that reaction can't be deleted. </li>\n",
    "     </ul>\n",
    "</li>\n",
    "</ul>"
   ]
  },
  {
   "cell_type": "code",
   "execution_count": 10,
   "metadata": {},
   "outputs": [
    {
     "name": "stdout",
     "output_type": "stream",
     "text": [
      "Metabolites:  655 \n",
      "Reactions:  743\n"
     ]
    }
   ],
   "source": [
    "print(\"Metabolites: \", len(model.metabolites()), \"\\nReactions: \", len(model.reactions()))\n"
   ]
  },
  {
   "cell_type": "code",
   "execution_count": 11,
   "metadata": {},
   "outputs": [],
   "source": [
    "model.remove_dem()"
   ]
  },
  {
   "cell_type": "code",
   "execution_count": 12,
   "metadata": {},
   "outputs": [
    {
     "name": "stdout",
     "output_type": "stream",
     "text": [
      "Metabolites:  486 \n",
      "Reactions:  739\n"
     ]
    }
   ],
   "source": [
    "print(\"Metabolites: \", len(model.metabolites()), \"\\nReactions: \", len(model.reactions()))\n"
   ]
  },
  {
   "cell_type": "markdown",
   "metadata": {},
   "source": [
    "### Chokepoint reactions\n",
    "\n",
    "[Chokepoint reactions](https://www.ncbi.nlm.nih.gov/pmc/articles/PMC2174424/) are those reactions that are the only consumer or producer of a given metabolite that isn't a dead-end metabolite. "
   ]
  },
  {
   "cell_type": "markdown",
   "metadata": {},
   "source": [
    "#### Finding chokepoint reactions\n",
    "\n",
    "Chokepoint reactions are calculated with the method ```find_chokepoints()```. The method ```chokepoints()``` returns a list of tuples of types ([cobra.core.reactions](https://cobrapy.readthedocs.io/en/latest/getting_started.html#Reactions), [cobra.core.metabolites](https://cobrapy.readthedocs.io/en/latest/getting_started.html#Metabolites)) representing a chokepoint reactions object and the metabolite it only produces/consumes."
   ]
  },
  {
   "cell_type": "code",
   "execution_count": 13,
   "metadata": {},
   "outputs": [
    {
     "data": {
      "text/plain": [
       "[(<Reaction PROD2 at 0x7f3cb5bf1208>, <Metabolite 1pyr5c_c at 0x7f3cb5f8e0b8>),\n",
       " (<Reaction DHDPRy at 0x7f3cb64565c0>,\n",
       "  <Metabolite 23dhdp_c at 0x7f3cb65fd048>),\n",
       " (<Reaction DHDPS at 0x7f3cb64566a0>, <Metabolite 23dhdp_c at 0x7f3cb65fd048>),\n",
       " (<Reaction DHAD1 at 0x7f3cb6440b00>, <Metabolite 23dhmb_c at 0x7f3cb65fde10>),\n",
       " (<Reaction KARA1i at 0x7f3cb5d8dc50>,\n",
       "  <Metabolite 23dhmb_c at 0x7f3cb65fde10>),\n",
       " (<Reaction DHAD2 at 0x7f3cb644d160>, <Metabolite 23dhmp_c at 0x7f3cec1b7198>),\n",
       " (<Reaction KARA2i at 0x7f3cb5d8de80>,\n",
       "  <Metabolite 23dhmp_c at 0x7f3cec1b7198>),\n",
       " (<Reaction DHPPDA at 0x7f3cb63f1e48>,\n",
       "  <Metabolite 25dhpp_c at 0x7f3cb65fdc50>),\n",
       " (<Reaction GTPCII at 0x7f3cb5dc04e0>,\n",
       "  <Metabo"
      ]
     },
     "execution_count": 13,
     "metadata": {},
     "output_type": "execute_result"
    },
    {
     "data": {
      "text/html": [
       "* * *"
      ]
     },
     "metadata": {},
     "output_type": "display_data"
    }
   ],
   "source": [
    "# Read initial model again\n",
    "model = MetabolicModel(CobraMetabolicModel(\"aureus.xml\"))\n",
    "\n",
    "model.find_chokepoints()\n",
    "model.chokepoints()"
   ]
  },
  {
   "cell_type": "markdown",
   "metadata": {},
   "source": [
    "Chokepoint reactions can also be printed on the command line with ```print_chokepoints```."
   ]
  },
  {
   "cell_type": "code",
   "execution_count": 14,
   "metadata": {},
   "outputs": [
    {
     "name": "stdout",
     "output_type": "stream",
     "text": [
      "MODEL:  MODEL1507180070  - NUMBER OF CHOKEPOINTS:  426\n",
      "METABOLITE ID |  METABOLITE NAME                           | REACTION ID | REACTION NAME\n",
      "------------------------------------------------------------\n",
      "1pyr5c_c      |  1-Pyrroline-5-carboxylate                 |  PROD2      |  Proline dehydrogenase\n",
      "23dhdp_c      |  2,3-Dihydrodipicolinate                   |  DHDPRy     |  dihydrodipicolinate reductase (NADPH)\n",
      "23dhdp_c      |  2,3-Dihydrodipicolinate                   |  DHDPS      |  dihydrodipicolinate synthase\n",
      "23dhmb_c      |  (R)-2,3-Dihydroxy-3-methylbutanoate       |  DHAD1      |  dihydroxy-acid dehydratase (2,3-dihydroxy-3-methylbutanoate)\n",
      "23dhmb_c      |  (R)-2,3-Dihydroxy-3-meth"
     ]
    },
    {
     "data": {
      "text/html": [
       "* * *"
      ]
     },
     "metadata": {},
     "output_type": "display_data"
    }
   ],
   "source": [
    "model.print_chokepoints()"
   ]
  },
  {
   "cell_type": "markdown",
   "metadata": {},
   "source": [
    "### Flux Balance Analysis\n",
    "\n",
    "[Flux Balance Analysis (FBA)](https://www.ncbi.nlm.nih.gov/pmc/articles/PMC3108565/) is a mathematical procedure used to calculate the growth rate of a metabolic model considering a objective function to maximize and the reactions flux as constraints.\n",
    "\n",
    "The method ```get_growth()``` calculates the objective value (growth rate) that maximizes the objective function. This method uses [cobra.core.model.slim_optimize](https://cobrapy.readthedocs.io/en/latest/autoapi/cobra/core/model/index.html?highlight=slim#cobra.core.model.Model.slim_optimize) and was obtained from [cobra.flux_analysis.deletion](https://cobrapy.readthedocs.io/en/latest/_modules/cobra/flux_analysis/deletion.html#_get_growth). \n",
    "\n",
    "The objective value obtained with FBA can be accesed with ```objective_value()```."
   ]
  },
  {
   "cell_type": "code",
   "execution_count": 15,
   "metadata": {},
   "outputs": [
    {
     "data": {
      "text/plain": [
       "0.1580502916027849"
      ]
     },
     "execution_count": 15,
     "metadata": {},
     "output_type": "execute_result"
    }
   ],
   "source": [
    "model.get_growth()\n",
    "model.objective_value()"
   ]
  },
  {
   "cell_type": "markdown",
   "metadata": {},
   "source": [
    "The objective function that is maximized during FBA can be accesed by ```objective()```"
   ]
  },
  {
   "cell_type": "code",
   "execution_count": 16,
   "metadata": {},
   "outputs": [
    {
     "data": {
      "text/plain": [
       "'1.0*biomass_SA_8a - 1.0*biomass_SA_8a_reverse_4ce77'"
      ]
     },
     "execution_count": 16,
     "metadata": {},
     "output_type": "execute_result"
    }
   ],
   "source": [
    "model.objective()"
   ]
  },
  {
   "cell_type": "markdown",
   "metadata": {},
   "source": [
    "This objective function can be changed by another reaction of the model with ```set_objective()```. This method receives the id of the reaction that will be set as the new objective value."
   ]
  },
  {
   "cell_type": "code",
   "execution_count": 17,
   "metadata": {},
   "outputs": [
    {
     "data": {
      "text/plain": [
       "'1.0*DHAD1 - 1.0*DHAD1_reverse_39dca'"
      ]
     },
     "execution_count": 17,
     "metadata": {},
     "output_type": "execute_result"
    }
   ],
   "source": [
    "model.set_objective(\"DHAD1\")\n",
    "model.objective()"
   ]
  },
  {
   "cell_type": "markdown",
   "metadata": {},
   "source": [
    "### Flux Variability Analysis\n",
    "\n",
    "[Flux Vatiability Analysis (FVA)](https://bmcbioinformatics.biomedcentral.com/articles/10.1186/1471-2105-11-489) is a mathematical procedure used to calculate the ''minimum and maximum flux for reactions in the network while maintaining some state of the network, e.g., supporting 90% of maximal possible biomass production rate''.\n",
    "\n",
    "The method ```fva()``` runs Flux Variability Analysis on the model. This method runs [cobra.flux_analysis.variability](https://cobrapy.readthedocs.io/en/latest/autoapi/cobra/flux_analysis/variability/index.html?highlight=flux_varia#cobra.flux_analysis.variability.flux_variability_analysis) and as so it allows the same parameters (see the previous link):   \n",
    "    - **loopless**: (default False) return only loopless solutions.   \n",
    "    - **threshold**: (float default None. In cobrapy 'fraction_of_optimum'): Requires that the objective value is at least the fraction times maximum objective value.   \n",
    "    - **pfba_factor**: (float default None) the total sum of absolute fluxes must not be larger than this value times the smallest possible sum of absolute fluxes.\n",
    "\n",
    "An extra parameter:   \n",
    "    - **verbose**: (default False) if True prints on the command line the result of FVA while running the analysis.\n",
    "\n",
    "Method ```fva()``` returns an error list if there was an error while running FVA or an empty list ```[]``` otherwise. "
   ]
  },
  {
   "cell_type": "code",
   "execution_count": 18,
   "metadata": {},
   "outputs": [
    {
     "data": {
      "text/plain": [
       "[]"
      ]
     },
     "execution_count": 18,
     "metadata": {},
     "output_type": "execute_result"
    }
   ],
   "source": [
    "model.fva(threshold=0.95)"
   ]
  },
  {
   "cell_type": "code",
   "execution_count": 19,
   "metadata": {},
   "outputs": [
    {
     "name": "stdout",
     "output_type": "stream",
     "text": [
      "FLUX VARIABILITY ANALYSIS:  MODEL1507180070\n",
      "REACTION:  3-Methyl-2-oxobutanoate:lipoamide oxidoreductase(decarboxylating and acceptor-2-methylpropanoylating)\n",
      "    fva ranges:   [ 0.0        ,  0.0        ]\n",
      "REACTION:  3-Methyl-2-oxopentanoate:lipoamide oxidoreductase(decarboxylating and acceptor-2-methylpropanoylating)\n",
      "    fva ranges:   [ 0.0        ,  0.0        ]\n",
      "REACTION:  4-Methyl-2-oxopentanoate:lipoamide oxidoreductase(decarboxylating and acceptor-2-methylpropanoylating)\n",
      "    fva ranges:   [ 0.0        ,  0.0        ]\n",
      "REACTION:  6-phospho-beta-galactosidase\n",
      "    fva ranges:   [ 0.0        ,  0.0        ]\n",
      "REACTION:  6-phospho-beta-glucosidase\n",
      "    fva ranges:   [ 0.0        ,  0.0        ]\n",
      "RE"
     ]
    },
    {
     "data": {
      "text/html": [
       "* * *"
      ]
     },
     "metadata": {},
     "output_type": "display_data"
    }
   ],
   "source": [
    "model.fva(threshold=0.95, verbose=True)"
   ]
  },
  {
   "cell_type": "markdown",
   "metadata": {},
   "source": [
    "The result obtained with FVA can be accesed with ```get_fva()```. This method returns a list of tuples: ([cobra.core.reaction](https://cobrapy.readthedocs.io/en/latest/getting_started.html#Reactions), \\[float\\] maximum flux, \\[float\\] minimum flux)"
   ]
  },
  {
   "cell_type": "code",
   "execution_count": 20,
   "metadata": {},
   "outputs": [
    {
     "data": {
      "text/plain": [
       "[(<Reaction 3M2OBLOXRD at 0x7f3cb64299e8>, 0.0, 0.0),\n",
       " (<Reaction 3M2OPLOXRD at 0x7f3cb6429940>, 0.0, 0.0),\n",
       " (<Reaction 4M2OPLOXRD at 0x7f3cb6422320>, 0.0, 0.0),\n",
       " (<Reaction 6PGALSZ at 0x7f3cb6422e10>, 0.0, 0.0),\n",
       " (<Reaction 6PHBG at 0x7f3cb641b2b0>, 0.0, 0.0),\n",
       " (<Reaction ABTAr at 0x7f3cb6494908>, 0.0, 0.0),\n",
       " (<Reaction ACACT1r at 0x7f3cb648d400>,\n",
       "  0.0003251131856814027,\n",
       "  -2065.624999999994),\n",
       " (<Reaction ACACT2r at 0x7f3cb6487a90>, 0.0, -2065.624999999994),\n",
       " (<Reaction ACACT3r at 0x7f3cb647ffd0>, 0.0, -2065.624999999994),\n",
       " (<Reaction ACACT4r at 0x7f3cb647f3c8>, 0.0, -2065.624999999994),\n",
       " (<Reaction ACACT5r at 0x7f3cb6478860>, 0.0, -2065.624999999994),\n",
       " (<Reaction ACACT6r at 0x7f3cb647fc18"
      ]
     },
     "execution_count": 20,
     "metadata": {},
     "output_type": "execute_result"
    },
    {
     "data": {
      "text/html": [
       "* * *"
      ]
     },
     "metadata": {},
     "output_type": "display_data"
    }
   ],
   "source": [
    "model.get_fva()"
   ]
  },
  {
   "cell_type": "markdown",
   "metadata": {},
   "source": [
    "#### Updating reaction's flux with FVA\n",
    "\n",
    "**findCritical** adds an extra parameter to this method which is ```update_flux```. If ```True``` the method ```fva()``` updates the model reaction's flux with the maximum and minimum flux values obtained with FVA (see the example below)."
   ]
  },
  {
   "cell_type": "code",
   "execution_count": 21,
   "metadata": {},
   "outputs": [
    {
     "name": "stdout",
     "output_type": "stream",
     "text": [
      "MODEL:  MODEL1507180070  - NUMBER OF REACTIONS:  743\n",
      "REACTION ID | UPPER BOUND | LOWER BOUND | REACTION\n",
      "-------------------------------------------------------\n",
      "3M2OBLOXRD  |   999999.0  |  -999999.0  |  3mob_c + h_c + lpam_c <=> 2mpdhl_c + co2_c\n",
      "3M2OPLOXRD  |   999999.0  |  -999999.0  |  3mop_c + h_c + lpam_c <=> 2mbdhl_c + co2_c\n",
      "4M2OPLOXRD  |   999999.0  |  -999999.0  |  4mop_c + h_c + lpam_c <=> 3mbdhl_c + co2_c\n",
      "6PGALSZ     |   999999.0  |  0.0        |  h2o_c + lac6p_c --> dgal6p_c + glc_DASH_D_c\n",
      "6PHBG       |   999999.0  |  0.0        |  h2o_c + salc6p_c --> 2hymeph_c + g6p_c\n",
      "ABTAr       |   999999.0  |  0.0        |  4abut_c + akg_c --> glu_DASH_L_c + sucsal_c\n",
      "ACACT1r     |   999999.0  "
     ]
    },
    {
     "data": {
      "text/html": [
       "* * *"
      ]
     },
     "metadata": {},
     "output_type": "display_data"
    }
   ],
   "source": [
    "# Print initial reactions of the model with initial flux values.\n",
    "model.print_reactions()"
   ]
  },
  {
   "cell_type": "code",
   "execution_count": 22,
   "metadata": {},
   "outputs": [
    {
     "data": {
      "text/plain": [
       "[]"
      ]
     },
     "execution_count": 22,
     "metadata": {},
     "output_type": "execute_result"
    }
   ],
   "source": [
    "# Update reactions flux values with FVA\n",
    "model.fva(update_flux=True)"
   ]
  },
  {
   "cell_type": "code",
   "execution_count": 23,
   "metadata": {
    "scrolled": true
   },
   "outputs": [
    {
     "name": "stdout",
     "output_type": "stream",
     "text": [
      "MODEL:  MODEL1507180070  - NUMBER OF REACTIONS:  743\n",
      "REACTION ID | UPPER BOUND | LOWER BOUND | REACTION\n",
      "-------------------------------------------------------\n",
      "3M2OBLOXRD  |   0.0       |  0.0        |  3mob_c + h_c + lpam_c --> 2mpdhl_c + co2_c\n",
      "3M2OPLOXRD  |   0.0       |  0.0        |  3mop_c + h_c + lpam_c --> 2mbdhl_c + co2_c\n",
      "4M2OPLOXRD  |   0.0       |  0.0        |  4mop_c + h_c + lpam_c --> 3mbdhl_c + co2_c\n",
      "6PGALSZ     |   0.0       |  0.0        |  h2o_c + lac6p_c --> dgal6p_c + glc_DASH_D_c\n",
      "6PHBG       |   0.0       |  0.0        |  h2o_c + salc6p_c --> 2hymeph_c + g6p_c\n",
      "ABTAr       |   0.0       |  0.0        |  4abut_c + akg_c --> glu_DASH_L_c + sucsal_c\n",
      "ACACT1r     |   -1.86605  "
     ]
    },
    {
     "data": {
      "text/html": [
       "* * *"
      ]
     },
     "metadata": {},
     "output_type": "display_data"
    }
   ],
   "source": [
    "# Print reactions of the model with refined reactions flux values.\n",
    "model.print_reactions()"
   ]
  },
  {
   "cell_type": "markdown",
   "metadata": {},
   "source": [
    "## Spreadsheet\n"
   ]
  },
  {
   "cell_type": "markdown",
   "metadata": {},
   "source": [
    "## Facade\n"
   ]
  },
  {
   "cell_type": "markdown",
   "metadata": {},
   "source": [
    "## CLI\n"
   ]
  },
  {
   "cell_type": "markdown",
   "metadata": {},
   "source": [
    "## GUI\n"
   ]
  },
  {
   "cell_type": "markdown",
   "metadata": {},
   "source": [
    "## WEB\n"
   ]
  }
 ],
 "metadata": {
  "kernelspec": {
   "display_name": "Python 3",
   "language": "python",
   "name": "python3"
  },
  "language_info": {
   "codemirror_mode": {
    "name": "ipython",
    "version": 3
   },
   "file_extension": ".py",
   "mimetype": "text/x-python",
   "name": "python",
   "nbconvert_exporter": "python",
   "pygments_lexer": "ipython3",
   "version": "3.6.5"
  }
 },
 "nbformat": 4,
 "nbformat_minor": 2
}
