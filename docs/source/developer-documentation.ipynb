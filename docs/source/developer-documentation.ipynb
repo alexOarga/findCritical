{
 "cells": [
  {
   "cell_type": "markdown",
   "metadata": {},
   "source": [
    "# Developer documentation"
   ]
  },
  {
   "cell_type": "markdown",
   "metadata": {},
   "source": [
    "## CORE"
   ]
  },
  {
   "cell_type": "markdown",
   "metadata": {},
   "source": [
    "### Import core modules\n",
    "\n",
    "In order to use **findCritical** library you have to import the core modules found on ```main/core``` directory. In the next example I use ```sys.path.append``` approach."
   ]
  },
  {
   "cell_type": "code",
   "execution_count": 1,
   "metadata": {},
   "outputs": [],
   "source": [
    "import sys\n",
    "\n",
    "# Import main/core\n",
    "sys.path.append('../../main/core')\n",
    "\n",
    "from MetabolicModel import MetabolicModel\n",
    "from CobraMetabolicModel import CobraMetabolicModel"
   ]
  },
  {
   "cell_type": "markdown",
   "metadata": {},
   "source": [
    "### Read metabolic model\n",
    "\n",
    "Read input metabolic model in [Systems Biology Markup Language (SBML)](http://sbml.org) format. SBML is a XML-based standard for systems biology model's exchange.\n",
    "\n",
    "Allowed files formats are:\n",
    "* xml\n",
    "* json\n",
    "* yml"
   ]
  },
  {
   "cell_type": "code",
   "execution_count": 2,
   "metadata": {},
   "outputs": [],
   "source": [
    "model = MetabolicModel(CobraMetabolicModel(\"aureus.xml\"))"
   ]
  },
  {
   "cell_type": "markdown",
   "metadata": {},
   "source": [
    "### Get model info"
   ]
  },
  {
   "cell_type": "markdown",
   "metadata": {},
   "source": [
    "The following methods allow to print on the command line data from the model."
   ]
  },
  {
   "cell_type": "markdown",
   "metadata": {},
   "source": [
    "#### Model info"
   ]
  },
  {
   "cell_type": "code",
   "execution_count": 3,
   "metadata": {},
   "outputs": [
    {
     "name": "stdout",
     "output_type": "stream",
     "text": [
      "MODEL INFO\n",
      "-------------------------------------------------------\n",
      "MODEL:  MODEL1507180070\n",
      "REACTIONS:  743\n",
      "METABOLITES:  655\n",
      "GENES:  619\n",
      "COMPARTMENTS:  c\n",
      "               e\n",
      "\n"
     ]
    }
   ],
   "source": [
    "model.print_model_info()"
   ]
  },
  {
   "cell_type": "markdown",
   "metadata": {},
   "source": [
    "#### Metabolites"
   ]
  },
  {
   "cell_type": "code",
   "execution_count": 4,
   "metadata": {
    "scrolled": false
   },
   "outputs": [
    {
     "name": "stdout",
     "output_type": "stream",
     "text": [
      "MODEL:  MODEL1507180070  - NUMBER OF METABOLITES:  655\n",
      "METABOLITE  |  COMPARTMENT      |  REACTION ID\n",
      "-------------------------------------------------------\n",
      "10fthf_c    |  c                |  biomass_SA_7b\n",
      "            |                   |  FTHFL\n",
      "            |                   |  GARFT\n",
      "            |                   |  MTHFC\n",
      "            |                   |  AICART\n",
      "            |                   |  biomass_SA_8a\n",
      "            |                   |  biomass_SA_7a\n",
      "12dgr_EC_c  |  c                |  biomass_SA_3b\n",
      "            |                   |  biomass_SA_2a\n",
      "            |                   |  biomass_SA_lipids_only\n",
      "            |                   |  biomass_SA_2b\n",
      "            |            "
     ]
    },
    {
     "data": {
      "text/html": [
       "* * *"
      ]
     },
     "metadata": {},
     "output_type": "display_data"
    }
   ],
   "source": [
    "model.print_metabolites()"
   ]
  },
  {
   "cell_type": "markdown",
   "metadata": {},
   "source": [
    "#### Reactions"
   ]
  },
  {
   "cell_type": "code",
   "execution_count": 5,
   "metadata": {},
   "outputs": [
    {
     "name": "stdout",
     "output_type": "stream",
     "text": [
      "MODEL:  MODEL1507180070  - NUMBER OF REACTIONS:  743\n",
      "REACTION ID | UPPER BOUND | LOWER BOUND | REACTION\n",
      "-------------------------------------------------------\n",
      "3M2OBLOXRD  |   999999.0  |  -999999.0  |  3mob_c + h_c + lpam_c <=> 2mpdhl_c + co2_c\n",
      "3M2OPLOXRD  |   999999.0  |  -999999.0  |  3mop_c + h_c + lpam_c <=> 2mbdhl_c + co2_c\n",
      "4M2OPLOXRD  |   999999.0  |  -999999.0  |  4mop_c + h_c + lpam_c <=> 3mbdhl_c + co2_c\n",
      "6PGALSZ     |   999999.0  |  0.0        |  h2o_c + lac6p_c --> dgal6p_c + glc_DASH_D_c\n",
      "6PHBG       |   999999.0  |  0.0        |  h2o_c + salc6p_c --> 2hymeph_c + g6p_c\n",
      "ABTAr       |   999999.0  |  0.0        |  4abut_c + akg_c --> glu_DASH_L_c + sucsal_c\n",
      "ACACT1r     |   999999.0  "
     ]
    },
    {
     "data": {
      "text/html": [
       "* * *"
      ]
     },
     "metadata": {},
     "output_type": "display_data"
    }
   ],
   "source": [
    "model.print_reactions()"
   ]
  },
  {
   "cell_type": "markdown",
   "metadata": {},
   "source": [
    "#### Genes"
   ]
  },
  {
   "cell_type": "code",
   "execution_count": 6,
   "metadata": {},
   "outputs": [
    {
     "name": "stdout",
     "output_type": "stream",
     "text": [
      "MODEL:  MODEL1507180070  - NUMBER OF GENES:  619\n",
      "GENE ID     |  GENE NAME   |  REACTION ID |  GPR RELATION\n",
      "-------------------------------------------------------\n",
      "SA0008      |  SA0008      |  HISDr       |  SA0008         \n",
      "SA0009      |  SA0009      |  SERTRS      |  SA0009         \n",
      "SA0011      |  SA0011      |  HSERTA      |  SA0011         \n",
      "SA0016      |  SA0016      |  ADSS        |  SA0016         \n",
      "SA0036      |  SA0036      |  GPDDA4      |  SA0036 or SA0820 or SA1542 or SA0969 or SA0220\n",
      "            |              |  GPDDA2      |  SA0036 or SA0820 or SA1542 or SA0969 or SA0220\n",
      "            |              |  GPDDA3      |  SA0036 or SA0820 or SA1542 or SA0969 or SA0220\n",
      "            |    "
     ]
    },
    {
     "data": {
      "text/html": [
       "* * *"
      ]
     },
     "metadata": {},
     "output_type": "display_data"
    }
   ],
   "source": [
    "model.print_genes()"
   ]
  },
  {
   "cell_type": "markdown",
   "metadata": {},
   "source": [
    "### Dead-end metabolites\n",
    "\n",
    "[Dead-end metabolites](https://journals.plos.org/plosone/article?id=10.1371/journal.pone.0075210) are those metabolites which are not consumed or not produced by any reaction of a given compartment of the model including exchange reactions."
   ]
  },
  {
   "cell_type": "markdown",
   "metadata": {},
   "source": [
    "#### Finding Dead-end metabolites\n",
    "\n",
    "Dead-end metabolites of the model are calculated with the method ```find_dem()```. The method ```dem()``` returns a python [dict](https://docs.python.org/2/tutorial/datastructures.html#dictionaries) with the following content:   \n",
    "- **key**: string with compartment name.   \n",
    "- **value**: list with [cobra.core.metabolites](https://cobrapy.readthedocs.io/en/latest/getting_started.html#Metabolites)."
   ]
  },
  {
   "cell_type": "code",
   "execution_count": 7,
   "metadata": {
    "scrolled": false
   },
   "outputs": [
    {
     "data": {
      "text/plain": [
       "{'c': [<Metabolite clpn_EC_c at 0x7f51233a8160>,\n",
       "  <Metabolite octdp_c at 0x7f5123374278>,\n",
       "  <Metabolite ddcaACP_c at 0x7f51233b02b0>,\n",
       "  <Metabolite octp_c at 0x7f51233742e8>,\n",
       "  <Metabolite acmama_c at 0x7f5123409fd0>,\n",
       "  <Metabolite decdp_c at 0x7f51233b0438>,\n",
       "  <Metabolite dgdcg_SA_c at 0x7f51233b0470>,\n",
       "  <Metabolite uppg1_c at 0x7f512339e470>,\n",
       "  <Metabolite pala_SA_c at 0x7f51233744e0>,\n",
       "  <Metabolite 2a3pp_c at 0x7f51233f05c0>,\n",
       "  <Metabolite pe_EC_c at 0x7f51233747b8>,\n",
       "  <Metabolite cu2_c at 0x7f51233a88d0>,\n",
       "  <Metabolite pg_EC_c at 0x7f5123374940>,\n",
       "  <Metabolite pgly_SA_c at 0x7f5123374978>,\n",
       "  <Metabolite g3pc_c at 0x7f51233c0b00>,\n",
       "  <Metabolite ssaltpp_c at 0x7f5123388b00>,\n",
       "  <Metabolite"
      ]
     },
     "execution_count": 7,
     "metadata": {},
     "output_type": "execute_result"
    },
    {
     "data": {
      "text/html": [
       "* * *"
      ]
     },
     "metadata": {},
     "output_type": "display_data"
    }
   ],
   "source": [
    "model.find_dem()\n",
    "model.dem()"
   ]
  },
  {
   "cell_type": "markdown",
   "metadata": {},
   "source": [
    "Dead-end metabolites can be printed on the command line with ```print_dem()``` method."
   ]
  },
  {
   "cell_type": "code",
   "execution_count": 8,
   "metadata": {},
   "outputs": [
    {
     "name": "stdout",
     "output_type": "stream",
     "text": [
      "MODEL:  MODEL1507180070  - NUMBER OF DEM:  2  - COMPARTMENT:  ALL\n",
      "METABOLITE  |  COMPARTMENT      |  REACTION ID\n",
      "-------------------------------------------------------\n",
      "clpn_EC_c   |  c                |  biomass_SA_3b\n",
      "            |                   |  biomass_SA_2a\n",
      "            |                   |  biomass_SA_lipids_only\n",
      "            |                   |  biomass_SA_2b\n",
      "            |                   |  biomass_SA_3a\n",
      "octdp_c     |  c                |  DHNAOT\n",
      "ddcaACP_c   |  c                |  KAS16\n",
      "octp_c      |  c                |  OCTD\n",
      "acmama_c    |  c                |  AMAA\n",
      "decdp_c     |  c                |  UDPDPS\n",
      "dgdcg_SA_c  |  c                |  biomass_SA_3b\n",
      "            |          "
     ]
    },
    {
     "data": {
      "text/html": [
       "* * *"
      ]
     },
     "metadata": {},
     "output_type": "display_data"
    }
   ],
   "source": [
    "model.print_dem()"
   ]
  },
  {
   "cell_type": "markdown",
   "metadata": {},
   "source": [
    "Dead-end metabolites printed can be limited to a specific compartment. Avaible compartments are given by ```model.compartments()``` method."
   ]
  },
  {
   "cell_type": "code",
   "execution_count": 9,
   "metadata": {},
   "outputs": [
    {
     "name": "stdout",
     "output_type": "stream",
     "text": [
      "MODEL:  MODEL1507180070  - NUMBER OF DEM:  2  - COMPARTMENT:  e\n",
      "METABOLITE  |  COMPARTMENT      |  REACTION ID\n",
      "-------------------------------------------------------\n",
      "salcn_e     |  e                |  SALCpts\n",
      "            |                   |  EX_salcn_e\n",
      "gua_e       |  e                |  EX_gua_e\n",
      "            |                   |  GUAt2\n",
      "ser_DASH_L_e  |  e                |  EX_ser_DASH_L_e\n",
      "            |                   |  SERabc\n",
      "cobalt2_e   |  e                |  COabc\n",
      "            |                   |  EX_cobalt2_e\n",
      "asp_DASH_L_e  |  e                |  EX_asp_DASH_L_e\n",
      "            |                   |  ASPabc\n",
      "ura_e       |  e                |  EX_ura_e\n",
      "            |                   |  U"
     ]
    },
    {
     "data": {
      "text/html": [
       "* * *"
      ]
     },
     "metadata": {},
     "output_type": "display_data"
    }
   ],
   "source": [
    "model.print_dem(compartment=\"e\")"
   ]
  },
  {
   "cell_type": "markdown",
   "metadata": {},
   "source": [
    "#### Removing dead-end metabolites\n",
    "\n",
    "Method ```remove_dem()``` removes dead-end metabolites from the model. Once dead-end metabolites are deleted, some reactions might not produce a metabolite anymore so the method deletes also these reactions and loops again until no dead-end metabolite is found:\n",
    "\n",
    "```\n",
    "while number of metabolites doesnt change:\n",
    "    delete all dead-end metabolites\n",
    "    for reaction that produced or consumed dead-end metabolites:\n",
    "        if reaction produces or consumes 0 metabolites [and is not exchange nor demand]: \n",
    "            delete reaction\n",
    "    find dead-end metabolites\n",
    "```\n",
    "\n",
    "The reactions that are deleted on the method can be modified by the following params: \n",
    "<ul>\n",
    "<li> **delete_exchange** :   \n",
    "     <ul> \n",
    "         <li> **True** : all the reactions that are produce or consume 0 metabolites are deleted whether they are exchange/demand or not. </li>    \n",
    "         <li> **False** : (default) deleted according to 'keep_all_incomplete_reactions' param. </li>\n",
    "     </ul>\n",
    "</li>\n",
    "<li> **keep_all_incomplete_reactions** :\n",
    "     <ul>\n",
    "        <li> **False**: if a reactions is a [cobra boundary reaction](https://cobrapy.readthedocs.io/en/latest/media.html#Boundary-reactions) (calculated by heuristics) that reaction can't be deleted. </li> \n",
    "        <li> **True**: (default) if a reaction initially doesn't produce or consume any metabolite that reaction can't be deleted. </li>\n",
    "     </ul>\n",
    "</li>\n",
    "</ul>"
   ]
  },
  {
   "cell_type": "code",
   "execution_count": 10,
   "metadata": {},
   "outputs": [
    {
     "name": "stdout",
     "output_type": "stream",
     "text": [
      "Metabolites:  655 \n",
      "Reactions:  743\n"
     ]
    }
   ],
   "source": [
    "print(\"Metabolites: \", len(model.metabolites()), \"\\nReactions: \", len(model.reactions()))\n"
   ]
  },
  {
   "cell_type": "code",
   "execution_count": 11,
   "metadata": {},
   "outputs": [],
   "source": [
    "model.remove_dem()"
   ]
  },
  {
   "cell_type": "code",
   "execution_count": 12,
   "metadata": {},
   "outputs": [
    {
     "name": "stdout",
     "output_type": "stream",
     "text": [
      "Metabolites:  486 \n",
      "Reactions:  739\n"
     ]
    }
   ],
   "source": [
    "print(\"Metabolites: \", len(model.metabolites()), \"\\nReactions: \", len(model.reactions()))\n"
   ]
  },
  {
   "cell_type": "markdown",
   "metadata": {},
   "source": [
    "### Chokepoint reactions\n",
    "\n",
    "[Chokepoint reactions](https://www.ncbi.nlm.nih.gov/pmc/articles/PMC2174424/) are those reactions that are the only consumer or producer of a given metabolite that isn't a dead-end metabolite. "
   ]
  },
  {
   "cell_type": "markdown",
   "metadata": {},
   "source": [
    "#### Finding chokepoint reactions\n",
    "\n",
    "Chokepoint reactions are calculated with the method ```find_chokepoints()```. The method ```chokepoints()``` returns a list of tuples of types ([cobra.core.reactions](https://cobrapy.readthedocs.io/en/latest/getting_started.html#Reactions), [cobra.core.metabolites](https://cobrapy.readthedocs.io/en/latest/getting_started.html#Metabolites)) representing a chokepoint reactions object and the metabolite it only produces/consumes."
   ]
  },
  {
   "cell_type": "code",
   "execution_count": 13,
   "metadata": {},
   "outputs": [
    {
     "data": {
      "text/plain": [
       "[(<Reaction PROD2 at 0x7f51229b3908>, <Metabolite 1pyr5c_c at 0x7f5123365be0>),\n",
       " (<Reaction DHDPRy at 0x7f5123216e10>,\n",
       "  <Metabolite 23dhdp_c at 0x7f5123365cf8>),\n",
       " (<Reaction DHDPS at 0x7f5123216c88>, <Metabolite 23dhdp_c at 0x7f5123365cf8>),\n",
       " (<Reaction DHAD1 at 0x7f5123210fd0>, <Metabolite 23dhmb_c at 0x7f5123365d30>),\n",
       " (<Reaction KARA1i at 0x7f5122b5b390>,\n",
       "  <Metabolite 23dhmb_c at 0x7f5123365d30>),\n",
       " (<Reaction DHAD2 at 0x7f5123208668>, <Metabolite 23dhmp_c at 0x7f5123365a90>),\n",
       " (<Reaction KARA2i at 0x7f5122b5b5c0>,\n",
       "  <Metabolite 23dhmp_c at 0x7f5123365a90>),\n",
       " (<Reaction DHPPDA at 0x7f51231b84e0>,\n",
       "  <Metabolite 25dhpp_c at 0x7f5123365160>),\n",
       " (<Reaction GTPCII at 0x7f5122b88be0>,\n",
       "  <Metabo"
      ]
     },
     "execution_count": 13,
     "metadata": {},
     "output_type": "execute_result"
    },
    {
     "data": {
      "text/html": [
       "* * *"
      ]
     },
     "metadata": {},
     "output_type": "display_data"
    }
   ],
   "source": [
    "# Read initial model again\n",
    "model = MetabolicModel(CobraMetabolicModel(\"aureus.xml\"))\n",
    "\n",
    "model.find_chokepoints()\n",
    "model.chokepoints()"
   ]
  },
  {
   "cell_type": "markdown",
   "metadata": {},
   "source": [
    "Chokepoint reactions can also be printed on the command line with ```print_chokepoints```."
   ]
  },
  {
   "cell_type": "code",
   "execution_count": 14,
   "metadata": {},
   "outputs": [
    {
     "name": "stdout",
     "output_type": "stream",
     "text": [
      "MODEL:  MODEL1507180070  - NUMBER OF CHOKEPOINTS:  426\n",
      "METABOLITE ID |  METABOLITE NAME                           | REACTION ID | REACTION NAME\n",
      "------------------------------------------------------------\n",
      "1pyr5c_c      |  1-Pyrroline-5-carboxylate                 |  PROD2      |  Proline dehydrogenase\n",
      "23dhdp_c      |  2,3-Dihydrodipicolinate                   |  DHDPRy     |  dihydrodipicolinate reductase (NADPH)\n",
      "23dhdp_c      |  2,3-Dihydrodipicolinate                   |  DHDPS      |  dihydrodipicolinate synthase\n",
      "23dhmb_c      |  (R)-2,3-Dihydroxy-3-methylbutanoate       |  DHAD1      |  dihydroxy-acid dehydratase (2,3-dihydroxy-3-methylbutanoate)\n",
      "23dhmb_c      |  (R)-2,3-Dihydroxy-3-meth"
     ]
    },
    {
     "data": {
      "text/html": [
       "* * *"
      ]
     },
     "metadata": {},
     "output_type": "display_data"
    }
   ],
   "source": [
    "model.print_chokepoints()"
   ]
  },
  {
   "cell_type": "markdown",
   "metadata": {},
   "source": [
    "### Flux Balance Analysis\n",
    "\n",
    "[Flux Balance Analysis (FBA)](https://www.ncbi.nlm.nih.gov/pmc/articles/PMC3108565/) is a mathematical procedure used to calculate the growth rate of a metabolic model considering a objective function to maximize and the reactions flux as constraints.\n",
    "\n",
    "The method ```get_growth()``` calculates the objective value (growth rate) that maximizes the objective function. This method uses [cobra.core.model.slim_optimize](https://cobrapy.readthedocs.io/en/latest/autoapi/cobra/core/model/index.html?highlight=slim#cobra.core.model.Model.slim_optimize) and was obtained from [cobra.flux_analysis.deletion](https://cobrapy.readthedocs.io/en/latest/_modules/cobra/flux_analysis/deletion.html#_get_growth). \n",
    "\n",
    "The objective value obtained with FBA can be accesed with ```objective_value()```."
   ]
  },
  {
   "cell_type": "code",
   "execution_count": 15,
   "metadata": {},
   "outputs": [
    {
     "data": {
      "text/plain": [
       "0.1580502916027849"
      ]
     },
     "execution_count": 15,
     "metadata": {},
     "output_type": "execute_result"
    }
   ],
   "source": [
    "model.get_growth()\n",
    "model.objective_value()"
   ]
  },
  {
   "cell_type": "markdown",
   "metadata": {},
   "source": [
    "The objective function that is maximized during FBA can be accesed by ```objective()```"
   ]
  },
  {
   "cell_type": "code",
   "execution_count": 16,
   "metadata": {},
   "outputs": [
    {
     "data": {
      "text/plain": [
       "'1.0*biomass_SA_8a - 1.0*biomass_SA_8a_reverse_4ce77'"
      ]
     },
     "execution_count": 16,
     "metadata": {},
     "output_type": "execute_result"
    }
   ],
   "source": [
    "model.objective()"
   ]
  },
  {
   "cell_type": "markdown",
   "metadata": {},
   "source": [
    "This objective function can be changed by another reaction of the model with ```set_objective()```. This method receives the reaction's id of the reaction that will be set as the new objective value."
   ]
  },
  {
   "cell_type": "code",
   "execution_count": 17,
   "metadata": {},
   "outputs": [
    {
     "data": {
      "text/plain": [
       "'1.0*DHAD1 - 1.0*DHAD1_reverse_39dca'"
      ]
     },
     "execution_count": 17,
     "metadata": {},
     "output_type": "execute_result"
    }
   ],
   "source": [
    "model.set_objective(\"DHAD1\")\n",
    "model.objective()"
   ]
  }
 ],
 "metadata": {
  "kernelspec": {
   "display_name": "Python 3",
   "language": "python",
   "name": "python3"
  },
  "language_info": {
   "codemirror_mode": {
    "name": "ipython",
    "version": 3
   },
   "file_extension": ".py",
   "mimetype": "text/x-python",
   "name": "python",
   "nbconvert_exporter": "python",
   "pygments_lexer": "ipython3",
   "version": "3.6.5"
  }
 },
 "nbformat": 4,
 "nbformat_minor": 2
}
